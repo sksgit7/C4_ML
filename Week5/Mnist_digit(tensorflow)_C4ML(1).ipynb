{
  "nbformat": 4,
  "nbformat_minor": 0,
  "metadata": {
    "colab": {
      "name": "Mnist_digit(tensorflow)-C4ML.ipynb",
      "provenance": []
    },
    "kernelspec": {
      "name": "python3",
      "display_name": "Python 3"
    }
  },
  "cells": [
    {
      "cell_type": "markdown",
      "metadata": {
        "id": "nUo074bJPQ2d",
        "colab_type": "text"
      },
      "source": [
        "## Classifying digits"
      ]
    },
    {
      "cell_type": "code",
      "metadata": {
        "id": "gPEYR0E4OClo",
        "colab_type": "code",
        "colab": {}
      },
      "source": [
        "import tensorflow as tf\n",
        "from tensorflow import keras\n",
        "import numpy as np\n",
        "import matplotlib.pyplot as plt"
      ],
      "execution_count": 0,
      "outputs": []
    },
    {
      "cell_type": "code",
      "metadata": {
        "id": "YY_eWyeOPYE_",
        "colab_type": "code",
        "colab": {
          "base_uri": "https://localhost:8080/",
          "height": 54
        },
        "outputId": "3444bd19-73f6-4bad-ad04-7fa294e87992"
      },
      "source": [
        "mnist = keras.datasets.mnist\n",
        "\n",
        "(train_images, train_labels), (test_images, test_labels) = mnist.load_data()"
      ],
      "execution_count": 2,
      "outputs": [
        {
          "output_type": "stream",
          "text": [
            "Downloading data from https://storage.googleapis.com/tensorflow/tf-keras-datasets/mnist.npz\n",
            "11493376/11490434 [==============================] - 0s 0us/step\n"
          ],
          "name": "stdout"
        }
      ]
    },
    {
      "cell_type": "code",
      "metadata": {
        "id": "Xc4IswuNPkTp",
        "colab_type": "code",
        "colab": {
          "base_uri": "https://localhost:8080/",
          "height": 35
        },
        "outputId": "d64ae9f8-9a0b-4a19-8ad2-f6b94d29e909"
      },
      "source": [
        "train_images.shape"
      ],
      "execution_count": 3,
      "outputs": [
        {
          "output_type": "execute_result",
          "data": {
            "text/plain": [
              "(60000, 28, 28)"
            ]
          },
          "metadata": {
            "tags": []
          },
          "execution_count": 3
        }
      ]
    },
    {
      "cell_type": "code",
      "metadata": {
        "id": "EB5Yy9-0PrlP",
        "colab_type": "code",
        "colab": {
          "base_uri": "https://localhost:8080/",
          "height": 35
        },
        "outputId": "c5f0c2ad-e62e-4207-d240-c3d1270e780d"
      },
      "source": [
        "test_images.shape"
      ],
      "execution_count": 4,
      "outputs": [
        {
          "output_type": "execute_result",
          "data": {
            "text/plain": [
              "(10000, 28, 28)"
            ]
          },
          "metadata": {
            "tags": []
          },
          "execution_count": 4
        }
      ]
    },
    {
      "cell_type": "markdown",
      "metadata": {
        "id": "L-V3kNPaQItR",
        "colab_type": "text"
      },
      "source": [
        "scaling the pixel values"
      ]
    },
    {
      "cell_type": "code",
      "metadata": {
        "id": "jHlw_YOaPvAr",
        "colab_type": "code",
        "colab": {}
      },
      "source": [
        "train_images = train_images / 255.0\n",
        "\n",
        "test_images = test_images / 255.0"
      ],
      "execution_count": 0,
      "outputs": []
    },
    {
      "cell_type": "markdown",
      "metadata": {
        "id": "-1W8ORFZQ3FI",
        "colab_type": "text"
      },
      "source": [
        "Viewing few images and labels"
      ]
    },
    {
      "cell_type": "code",
      "metadata": {
        "id": "jxtDZEThQO0r",
        "colab_type": "code",
        "colab": {
          "base_uri": "https://localhost:8080/",
          "height": 317
        },
        "outputId": "ab922675-5243-4703-f3bb-1580aef0d7b7"
      },
      "source": [
        "plt.figure(figsize=(5,5))\n",
        "for i in range(4):\n",
        "    plt.subplot(2,2,i+1)\n",
        "    plt.xticks([])\n",
        "    plt.yticks([])\n",
        "    plt.grid(False)\n",
        "    plt.imshow(train_images[i], cmap=plt.cm.binary)\n",
        "    plt.xlabel(train_labels[i])\n",
        "plt.show()"
      ],
      "execution_count": 7,
      "outputs": [
        {
          "output_type": "display_data",
          "data": {
            "image/png": "[encoded data removed]",
            "text/plain": [
              "<Figure size 360x360 with 4 Axes>"
            ]
          },
          "metadata": {
            "tags": []
          }
        }
      ]
    },
    {
      "cell_type": "markdown",
      "metadata": {
        "id": "FnomA693RTH7",
        "colab_type": "text"
      },
      "source": [
        "Model building"
      ]
    },
    {
      "cell_type": "code",
      "metadata": {
        "id": "SuaNM5MVRCF4",
        "colab_type": "code",
        "colab": {}
      },
      "source": [
        "model = keras.Sequential([\n",
        "    keras.layers.Flatten(input_shape=(28, 28)),\n",
        "    keras.layers.Dense(128, activation='relu'),\n",
        "    keras.layers.Dense(10)\n",
        "])"
      ],
      "execution_count": 0,
      "outputs": []
    },
    {
      "cell_type": "code",
      "metadata": {
        "id": "u-Ul3D5LTZdt",
        "colab_type": "code",
        "colab": {}
      },
      "source": [
        "model.compile(optimizer='adam',\n",
        "              loss=tf.keras.losses.SparseCategoricalCrossentropy(from_logits=True),\n",
        "              metrics=['accuracy'])"
      ],
      "execution_count": 0,
      "outputs": []
    },
    {
      "cell_type": "code",
      "metadata": {
        "id": "UbUycWKITbJh",
        "colab_type": "code",
        "colab": {
          "base_uri": "https://localhost:8080/",
          "height": 589
        },
        "outputId": "3a92fa06-3c54-4059-e1a9-08c82911aa81"
      },
      "source": [
        "model.fit(train_images, train_labels, epochs=15)"
      ],
      "execution_count": 13,
      "outputs": [
        {
          "output_type": "stream",
          "text": [
            "Epoch 1/15\n",
            "1875/1875 [==============================] - 3s 2ms/step - loss: 0.2624 - accuracy: 0.9263\n",
            "Epoch 2/15\n",
            "1875/1875 [==============================] - 4s 2ms/step - loss: 0.1163 - accuracy: 0.9664\n",
            "Epoch 3/15\n",
            "1875/1875 [==============================] - 4s 2ms/step - loss: 0.0798 - accuracy: 0.9762\n",
            "Epoch 4/15\n",
            "1875/1875 [==============================] - 4s 2ms/step - loss: 0.0603 - accuracy: 0.9813\n",
            "Epoch 5/15\n",
            "1875/1875 [==============================] - 3s 2ms/step - loss: 0.0471 - accuracy: 0.9850\n",
            "Epoch 6/15\n",
            "1875/1875 [==============================] - 3s 2ms/step - loss: 0.0378 - accuracy: 0.9883\n",
            "Epoch 7/15\n",
            "1875/1875 [==============================] - 3s 2ms/step - loss: 0.0288 - accuracy: 0.9910\n",
            "Epoch 8/15\n",
            "1875/1875 [==============================] - 3s 2ms/step - loss: 0.0239 - accuracy: 0.9925\n",
            "Epoch 9/15\n",
            "1875/1875 [==============================] - 3s 2ms/step - loss: 0.0200 - accuracy: 0.9937\n",
            "Epoch 10/15\n",
            "1875/1875 [==============================] - 3s 2ms/step - loss: 0.0158 - accuracy: 0.9951\n",
            "Epoch 11/15\n",
            "1875/1875 [==============================] - 3s 2ms/step - loss: 0.0140 - accuracy: 0.9958\n",
            "Epoch 12/15\n",
            "1875/1875 [==============================] - 3s 2ms/step - loss: 0.0118 - accuracy: 0.9965\n",
            "Epoch 13/15\n",
            "1875/1875 [==============================] - 3s 2ms/step - loss: 0.0102 - accuracy: 0.9968\n",
            "Epoch 14/15\n",
            "1875/1875 [==============================] - 3s 2ms/step - loss: 0.0096 - accuracy: 0.9971\n",
            "Epoch 15/15\n",
            "1875/1875 [==============================] - 3s 2ms/step - loss: 0.0081 - accuracy: 0.9976\n"
          ],
          "name": "stdout"
        },
        {
          "output_type": "execute_result",
          "data": {
            "text/plain": [
              "<tensorflow.python.keras.callbacks.History at 0x7fcc93aeb320>"
            ]
          },
          "metadata": {
            "tags": []
          },
          "execution_count": 13
        }
      ]
    },
    {
      "cell_type": "code",
      "metadata": {
        "id": "Y36Fu8grT6i0",
        "colab_type": "code",
        "colab": {
          "base_uri": "https://localhost:8080/",
          "height": 72
        },
        "outputId": "c63df2d0-5d57-4b5b-d18f-206109b90b60"
      },
      "source": [
        "test_loss, test_acc = model.evaluate(test_images,  test_labels, verbose=2)\n",
        "\n",
        "print('\\nTest accuracy:', test_acc)"
      ],
      "execution_count": 14,
      "outputs": [
        {
          "output_type": "stream",
          "text": [
            "313/313 - 0s - loss: 0.0902 - accuracy: 0.9789\n",
            "\n",
            "Test accuracy: 0.9789000153541565\n"
          ],
          "name": "stdout"
        }
      ]
    },
    {
      "cell_type": "markdown",
      "metadata": {
        "id": "Zjcj7zT4Zlcp",
        "colab_type": "text"
      },
      "source": [
        "We got accuracy of 97%"
      ]
    },
    {
      "cell_type": "markdown",
      "metadata": {
        "id": "p_y_ng85Vbyw",
        "colab_type": "text"
      },
      "source": [
        "### Predict"
      ]
    },
    {
      "cell_type": "code",
      "metadata": {
        "id": "WWYGWjfAVAbM",
        "colab_type": "code",
        "colab": {
          "base_uri": "https://localhost:8080/",
          "height": 35
        },
        "outputId": "122d7adc-9b63-452f-f454-2e33b22089be"
      },
      "source": [
        "pred1=model.predict(test_images)\n",
        "np.argmax(pred1[20])"
      ],
      "execution_count": 16,
      "outputs": [
        {
          "output_type": "execute_result",
          "data": {
            "text/plain": [
              "9"
            ]
          },
          "metadata": {
            "tags": []
          },
          "execution_count": 16
        }
      ]
    },
    {
      "cell_type": "code",
      "metadata": {
        "id": "uQYcIOyEVu5Z",
        "colab_type": "code",
        "colab": {
          "base_uri": "https://localhost:8080/",
          "height": 35
        },
        "outputId": "215e3f88-a425-4889-e42a-595edb61ae0a"
      },
      "source": [
        "test_labels[20]"
      ],
      "execution_count": 17,
      "outputs": [
        {
          "output_type": "execute_result",
          "data": {
            "text/plain": [
              "9"
            ]
          },
          "metadata": {
            "tags": []
          },
          "execution_count": 17
        }
      ]
    },
    {
      "cell_type": "markdown",
      "metadata": {
        "id": "0-FqO5zLWjr2",
        "colab_type": "text"
      },
      "source": [
        "Applying Softmax layer to get probabilities"
      ]
    },
    {
      "cell_type": "code",
      "metadata": {
        "id": "k2Vw61T7V5Bs",
        "colab_type": "code",
        "colab": {}
      },
      "source": [
        "probability_model = tf.keras.Sequential([model, \n",
        "                                         tf.keras.layers.Softmax()])"
      ],
      "execution_count": 0,
      "outputs": []
    },
    {
      "cell_type": "code",
      "metadata": {
        "id": "u1tAI9nyWurB",
        "colab_type": "code",
        "colab": {}
      },
      "source": [
        "pred2=probability_model.predict(test_images)"
      ],
      "execution_count": 0,
      "outputs": []
    },
    {
      "cell_type": "code",
      "metadata": {
        "id": "4R0ni3wZXCTe",
        "colab_type": "code",
        "colab": {
          "base_uri": "https://localhost:8080/",
          "height": 35
        },
        "outputId": "c5559ba2-0547-4a4e-bc79-ad165126407c"
      },
      "source": [
        "np.argmax(pred2[20])"
      ],
      "execution_count": 20,
      "outputs": [
        {
          "output_type": "execute_result",
          "data": {
            "text/plain": [
              "9"
            ]
          },
          "metadata": {
            "tags": []
          },
          "execution_count": 20
        }
      ]
    },
    {
      "cell_type": "code",
      "metadata": {
        "id": "ZYaPhasiXHct",
        "colab_type": "code",
        "colab": {
          "base_uri": "https://localhost:8080/",
          "height": 265
        },
        "outputId": "ec029978-6053-4cab-9bd6-052ad1413116"
      },
      "source": [
        "from sklearn.metrics import confusion_matrix\n",
        "import seaborn as sns\n",
        "_=sns.heatmap(confusion_matrix(list(map(lambda x: np.argmax(x),pred2)),test_labels),annot=True)"
      ],
      "execution_count": 40,
      "outputs": [
        {
          "output_type": "display_data",
          "data": {
            "image/png": "[encoded data removed]",
            "text/plain": [
              "<Figure size 432x288 with 2 Axes>"
            ]
          },
          "metadata": {
            "tags": [],
            "needs_background": "light"
          }
        }
      ]
    }
  ]
}